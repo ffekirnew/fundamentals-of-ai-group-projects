{
 "cells": [
  {
   "cell_type": "markdown",
   "metadata": {},
   "source": [
    "# Greedy Search Algorithm"
   ]
  },
  {
   "cell_type": "markdown",
   "metadata": {},
   "source": [
    "<h3>Algorithm Implementation</h3>"
   ]
  },
  {
   "cell_type": "code",
   "execution_count": 1,
   "metadata": {},
   "outputs": [],
   "source": [
    "from heapq import heapify, heappush\n",
    "import math\n",
    "from graph import Graph\n",
    "\n",
    "def distance_heuristic(node1, node2):\n",
    "    return math.sqrt( (node1.x - node2.x) ** 2 + (node1.y - node2.y) ** 2 )\n",
    "\n",
    "def greedy_search(graph: Graph, start: str, goal: str) -> bool:\n",
    "    visited = set([start])\n",
    "\n",
    "    curr_node = start\n",
    "    fringe = [ (start, [start], distance_heuristic(start, goal),) ]\n",
    "    # fringe = [(neighbour, distance_heuristic(neighbour, goal)) for neighbour, weight in graph.get_neighbours(curr_city)]\n",
    "    heapify(fringe)\n",
    "\n",
    "    path = [start]\n",
    "\n",
    "    while fringe:\n",
    "        curr_node, curr_path, curr_heuristic = fringe.pop()\n",
    "\n",
    "        if curr_node == goal:\n",
    "            return curr_path\n",
    "        \n",
    "        visited.add(curr_node)\n",
    "\n",
    "        for neighbour, weight in graph[start].get_neighbours():\n",
    "            if neighbour not in visited:\n",
    "                new_path = curr_path + [neighbour]\n",
    "                new_node = neighbour\n",
    "\n",
    "                heappush(fringe, (new_node, new_path, distance_heuristic(graph[neighbour], graph[goal]), ), key=lambda x: x[2])\n",
    "\n",
    "    return"
   ]
  },
  {
   "cell_type": "markdown",
   "metadata": {},
   "source": [
    "##### A. The benchmark should be finding the path between each node. Randomly pick 10 cities. Find the path between them."
   ]
  },
  {
   "cell_type": "code",
   "execution_count": null,
   "metadata": {},
   "outputs": [],
   "source": [
    "import timeit\n",
    "from random import shuffle\n",
    "from graph import load_romania_graph\n",
    "\n",
    "romania: Graph = load_romania_graph()\n",
    "\n",
    "romanian_cities: list[str] = [city for city in romania.get_nodes()]\n",
    "shuffle(romanian_cities)\n",
    "\n",
    "random_cities: list[str] = romanian_cities[:10]\n",
    "\n",
    "for city1 in random_cities:\n",
    "    for city2 in random_cities:\n",
    "        if city1 is not city2:\n",
    "            path = greedy_search(graph=romania, start=city1, goal=city2)\n",
    "            time_taken = timeit.timeit(lambda: greedy_search(romania, city1, city2), number=10) # number=10 means the code will be run 10 tiems and the average will be returned\n",
    "\n",
    "            print(f\"Trying: {city1} -> {city2}\")\n",
    "            if path:\n",
    "                print(f\"Found path: {' -> '.join(path)}, Length: {len(path)}\")\n",
    "            else:\n",
    "                print(\"Cannot find path.\")\n",
    "            print(time_taken, \"seconds\")"
   ]
  },
  {
   "attachments": {},
   "cell_type": "markdown",
   "metadata": {},
   "source": [
    "##### D. Create random graphs with a number of nodes n = 10, 20, 30, 40. Randomly connect nodes with the probability of edges p = 0.2, 0.4, 0.6, 0.8. In total, you will have 16 graphs."
   ]
  },
  {
   "cell_type": "code",
   "execution_count": 5,
   "metadata": {},
   "outputs": [],
   "source": [
    "import random\n",
    "\n",
    "def create_random_graph(num_nodes: int, edge_prob: float) -> Graph:\n",
    "    graph = Graph()\n",
    "    \n",
    "    # add all nodes to the graph\n",
    "    for i in range(num_nodes):\n",
    "        graph.add_node(str(i))\n",
    "        \n",
    "    # randomly connect nodes with probability edge_prob\n",
    "    for i in range(num_nodes):\n",
    "        for j in range(i+1, num_nodes):\n",
    "            if random.random() < edge_prob:\n",
    "                weight = random.randint(1, 10)\n",
    "                graph.insert_edge(str(i), str(j), weight)\n",
    "    \n",
    "    return graph\n"
   ]
  },
  {
   "cell_type": "code",
   "execution_count": 51,
   "metadata": {},
   "outputs": [],
   "source": [
    "from random import shuffle\n",
    "\n",
    "node_numbers = [10, 20, 30, 40]\n",
    "edge_probabilities = [ 0.2, 0.4, 0.6, 0.8]\n",
    "\n",
    "experiment_graphs = []\n",
    "\n",
    "for num_nodes in node_numbers:\n",
    "    for edge_prob in edge_probabilities:\n",
    "        experiment_graphs.append((f\"Number of nodes: {num_nodes}, Probability of Edges: {edge_prob}\", create_random_graph(num_nodes, edge_prob)))\n",
    "\n",
    "results = {}\n",
    "\n",
    "for label, graph in experiment_graphs:\n",
    "    nodes = graph.get_nodes()\n",
    "\n",
    "    shuffle(nodes)\n",
    "\n",
    "    random_5_nodes = nodes[:5]\n",
    "\n",
    "    results[label] = {}\n",
    "\n",
    "    for node1 in random_5_nodes:\n",
    "        for node2 in random_5_nodes:\n",
    "            if node1 is not node2:\n",
    "                path = greedy_search(graph, node1, node2)\n",
    "                time_taken = timeit.timeit(lambda: greedy_search(graph, node1, node2), number=5)\n",
    "\n",
    "                results[label][f\"[{node1} -> {node2}]\"] = (time_taken * 1000, path)"
   ]
  },
  {
   "cell_type": "code",
   "execution_count": null,
   "metadata": {},
   "outputs": [],
   "source": [
    "import matplotlib.pyplot as plt\n",
    "\n",
    "# Define the plot titles for each subplot pair\n",
    "plot_titles = ['Time taken vs Route Search', 'Solution Length Vs Route Search']\n",
    "\n",
    "for i, (label, result) in enumerate(results.items()):\n",
    "    search_list = list(result.keys())\n",
    "    time_taken_list = list(time for time, path in result.values())\n",
    "    solution_length_list = list(len(path) if path else 0 for time, path in result.values())\n",
    "\n",
    "    fig, axs = plt.subplots(1, 2, figsize=(30, 10))\n",
    "\n",
    "    axs[0].plot(search_list, time_taken_list)\n",
    "    axs[0].set_xlabel('Route Search (from node a -> b)')\n",
    "    axs[0].set_ylabel('Time taken (seconds)')\n",
    "    axs[1].plot(search_list, solution_length_list)\n",
    "    axs[1].set_xlabel('Route Search (from node a -> b)')\n",
    "    axs[1].set_ylabel('Solution Length')\n",
    "\n",
    "    # Set the title for each subplot pair\n",
    "    for j, ax in enumerate(axs):\n",
    "        ax.set_title(plot_titles[j])\n",
    "        \n",
    "    plt.suptitle(f'{label}', fontsize=16)\n",
    "    plt.tight_layout()\n",
    "    plt.show()"
   ]
  }
 ],
 "metadata": {
  "kernelspec": {
   "display_name": "Python 3 (ipykernel)",
   "language": "python",
   "name": "python3"
  },
  "language_info": {
   "codemirror_mode": {
    "name": "ipython",
    "version": 3
   },
   "file_extension": ".py",
   "mimetype": "text/x-python",
   "name": "python",
   "nbconvert_exporter": "python",
   "pygments_lexer": "ipython3",
   "version": "3.10.7"
  }
 },
 "nbformat": 4,
 "nbformat_minor": 2
}
