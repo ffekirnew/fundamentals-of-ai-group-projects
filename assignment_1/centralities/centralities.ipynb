{
 "cells": [
  {
   "attachments": {},
   "cell_type": "markdown",
   "metadata": {},
   "source": [
    "# Centralities Calculation"
   ]
  },
  {
   "cell_type": "code",
   "execution_count": 1,
   "metadata": {},
   "outputs": [],
   "source": [
    "import sys\n",
    "import os\n",
    "\n",
    "parent_dir = os.path.abspath(os.path.join(os.getcwd(), \"../../\"))\n",
    "\n",
    "sys.path.append(parent_dir)\n",
    "\n",
    "from assignment_1.lib.graph import Graph\n",
    "from assignment_1.lib.load_romanian_cities import load_romania\n",
    "\n",
    "romania_map = load_romania()"
   ]
  },
  {
   "attachments": {},
   "cell_type": "markdown",
   "metadata": {},
   "source": [
    "### Degree Centrality"
   ]
  },
  {
   "cell_type": "code",
   "execution_count": 7,
   "metadata": {},
   "outputs": [
    {
     "name": "stdout",
     "output_type": "stream",
     "text": [
      "[('Oradea', 2), ('Zerind', 2), ('Arad', 2), ('Timisoara', 2), ('Lugoj', 2), ('Mehadia', 2), ('Drobeta', 2), ('Craiova', 2), ('Sibiu', 2), ('Rimnicu Vilcea', 2), ('Fagaras', 2), ('Pitesti', 2), ('Giurgiu', 2), ('Bucharest', 2), ('Urziceni', 2), ('Eforie', 2), ('Hirsova', 2), ('Vaslui', 2), ('Iasi', 2), ('Neamt', 2)]\n"
     ]
    }
   ],
   "source": [
    "def degreeCentrality(cities):\n",
    "    degreeCentralityTable = []\n",
    "    for city in cities.get_nodes():\n",
    "        degreeCentralityTable.append((city,len(cities[city])))\n",
    "\n",
    "    degreeCentralityTable.sort(key=lambda x:x[1],reverse=True)\n",
    "    return degreeCentralityTable\n",
    "\n",
    "print(degreeCentrality(romania_map))"
   ]
  },
  {
   "cell_type": "markdown",
   "metadata": {},
   "source": [
    "### Closeness Centrality"
   ]
  },
  {
   "cell_type": "code",
   "execution_count": 2,
   "metadata": {},
   "outputs": [
    {
     "name": "stdout",
     "output_type": "stream",
     "text": [
      "{'Oradea': 0.014285714285714285, 'Zerind': 0.0125, 'Arad': 0.015625, 'Timisoara': 0.013157894736842105, 'Lugoj': 0.011363636363636364, 'Mehadia': 0.011111111111111112, 'Drobeta': 0.0125, 'Craiova': 0.014705882352941176, 'Sibiu': 0.018518518518518517, 'Rimnicu Vilcea': 0.017857142857142856, 'Fagaras': 0.01818181818181818, 'Pitesti': 0.017543859649122806, 'Giurgiu': 0.014084507042253521, 'Bucharest': 0.018867924528301886, 'Urziceni': 0.01639344262295082, 'Eforie': 0.010526315789473684, 'Hirsova': 0.012987012987012988, 'Vaslui': 0.013333333333333334, 'Iasi': 0.01098901098901099, 'Neamt': 0.009174311926605505}\n"
     ]
    }
   ],
   "source": [
    "#used dijkstras algorithm to find the closest possible distance between the two cities.this is because my dfs agorithm doesn't nessesarly return the\n",
    "#shortest distance\n",
    "def dijkstra(graph: Graph, start: str) -> list[float]:\n",
    "    distances = {node: float('inf') for node in graph.get_nodes()}\n",
    "    distances[start] = 0\n",
    "    \n",
    "    queue = [start]\n",
    "    while queue:\n",
    "        current_node = queue.pop(0)\n",
    "        for neighbor in graph[current_node][1]:\n",
    "            tentative_distance = distances[current_node] + 1\n",
    "            if tentative_distance < distances[neighbor]:\n",
    "                distances[neighbor] = tentative_distance\n",
    "                queue.append(neighbor)\n",
    "    \n",
    "    return distances\n",
    "\n",
    "def closeness_centrality(graph: Graph):\n",
    "    closeness = {}\n",
    "    for node in graph.get_nodes():\n",
    "        distances = dijkstra(graph, node)\n",
    "        total_distance = sum(distances.values())\n",
    "        closeness[node] = 1 / total_distance\n",
    "    \n",
    "    return closeness\n",
    "\n",
    "romania_closeness = closeness_centrality(romania_map)\n",
    "print(romania_closeness)"
   ]
  },
  {
   "cell_type": "markdown",
   "metadata": {},
   "source": [
    "### Katz Centrality"
   ]
  },
  {
   "cell_type": "code",
   "execution_count": 3,
   "metadata": {},
   "outputs": [
    {
     "name": "stdout",
     "output_type": "stream",
     "text": [
      "{'Oradea': 0.12809235103167865, 'Zerind': 0.1268843841077829, 'Arad': 0.1407514900461499, 'Timisoara': 0.1265913901447122, 'Lugoj': 0.12516241140097198, 'Mehadia': 0.125032723865008, 'Drobeta': 0.12516482724910785, 'Craiova': 0.1266155486260703, 'Sibiu': 0.15403912620900395, 'Rimnicu Vilcea': 0.1409906590115949, 'Fagaras': 0.13055676200061583, 'Pitesti': 0.12925191528087498, 'Giurgiu': 0.11515284937971552, 'Bucharest': 0.15152849379715486, 'Urziceni': 0.1403234113103422, 'Eforie': 0.11252851930616509, 'Hirsova': 0.12528519306165073, 'Vaslui': 0.12642042624461622, 'Iasi': 0.12388085113581981, 'Neamt': 0.112388085113582}\n"
     ]
    }
   ],
   "source": [
    "import numpy as np\n",
    "\n",
    "def katz_centrality(graph, alpha, beta):\n",
    "    n = len(graph.get_nodes())\n",
    "    A = np.zeros((n,n))\n",
    "    nodes = list(graph.get_nodes())\n",
    "    node_dict = {nodes[i]:i for i in range(n)}\n",
    "    \n",
    "    # Create adjacency matrix\n",
    "    for node in nodes:\n",
    "        neighbors = graph[node][1]\n",
    "        i = node_dict[node]\n",
    "        for neighbor in neighbors:\n",
    "            j = node_dict[neighbor]\n",
    "            A[i][j] = 1\n",
    "    \n",
    "    # Calculate Katz centrality\n",
    "    I = np.identity(n)\n",
    "    M = beta * np.linalg.inv(I - alpha * A)\n",
    "    katz = np.sum(M, axis=1)\n",
    "    \n",
    "    katz_dict = {nodes[i]:katz[i] for i in range(n)}\n",
    "    return katz_dict\n",
    "\n",
    "katz = katz_centrality(romania_map, 0.1, 0.1)\n",
    "print(katz)"
   ]
  },
  {
   "attachments": {},
   "cell_type": "markdown",
   "metadata": {},
   "source": [
    "### Eigen-vector Centrality"
   ]
  },
  {
   "cell_type": "code",
   "execution_count": 4,
   "metadata": {},
   "outputs": [
    {
     "name": "stdout",
     "output_type": "stream",
     "text": [
      "{'Oradea': 0.014285714285714285, 'Zerind': 0.0125, 'Arad': 0.015625, 'Timisoara': 0.013157894736842105, 'Lugoj': 0.011363636363636364, 'Mehadia': 0.011111111111111112, 'Drobeta': 0.0125, 'Craiova': 0.014705882352941176, 'Sibiu': 0.018518518518518517, 'Rimnicu Vilcea': 0.017857142857142856, 'Fagaras': 0.01818181818181818, 'Pitesti': 0.017543859649122806, 'Giurgiu': 0.014084507042253521, 'Bucharest': 0.018867924528301886, 'Urziceni': 0.01639344262295082, 'Eforie': 0.010526315789473684, 'Hirsova': 0.012987012987012988, 'Vaslui': 0.013333333333333334, 'Iasi': 0.01098901098901099, 'Neamt': 0.009174311926605505}\n"
     ]
    }
   ],
   "source": [
    "import numpy as np\n",
    "\n",
    "def eigenvector_centrality(graph):\n",
    "    adjacency = np.zeros((len(graph.get_nodes()), len(graph.get_nodes())))\n",
    "    node_index = {node: i for i, node in enumerate(graph.get_nodes())}\n",
    "    for node in graph.get_nodes():\n",
    "        neighbors = graph[node][1]\n",
    "        for neighbor in neighbors:\n",
    "            adjacency[node_index[node], node_index[neighbor]] = 1\n",
    "    \n",
    "    centrality = np.ones(len(graph.get_nodes()))\n",
    "    for i in range(100):\n",
    "        centrality = np.matmul(adjacency, centrality)\n",
    "        centrality = centrality / np.linalg.norm(centrality)\n",
    "    \n",
    "    return {node: centrality[node_index[node]] for node in graph.get_nodes()}\n",
    "\n",
    "romania_eigenvector = eigenvector_centrality(romania_map)\n",
    "print(romania_closeness)"
   ]
  },
  {
   "attachments": {},
   "cell_type": "markdown",
   "metadata": {},
   "source": [
    "### Between-ness Centrality"
   ]
  },
  {
   "cell_type": "code",
   "execution_count": 5,
   "metadata": {},
   "outputs": [
    {
     "name": "stdout",
     "output_type": "stream",
     "text": [
      "{'Oradea': 13.666666666666666, 'Zerind': 3.6666666666666665, 'Arad': 74.66666666666666, 'Timisoara': 37.0, 'Lugoj': 14.0, 'Mehadia': 10.666666666666666, 'Drobeta': 29.666666666666668, 'Craiova': 53.0, 'Sibiu': 131.66666666666669, 'Rimnicu Vilcea': 88.0, 'Fagaras': 96.0, 'Pitesti': 64.0, 'Giurgiu': 0, 'Bucharest': 182.0, 'Urziceni': 152.0, 'Eforie': 0, 'Hirsova': 36.0, 'Vaslui': 68.0, 'Iasi': 36.0, 'Neamt': 0}\n"
     ]
    }
   ],
   "source": [
    "def betweenness_centrality(graph):\n",
    "    betweenness = {node: 0 for node in graph.get_nodes()}\n",
    "\n",
    "    for node in graph.get_nodes():\n",
    "        S = []\n",
    "        P = {v: [] for v in graph.get_nodes()}\n",
    "        sigma = {v: 0 for v in graph.get_nodes()}\n",
    "        sigma[node] = 1\n",
    "        D = {v: -1 for v in graph.get_nodes()}\n",
    "        D[node] = 0\n",
    "\n",
    "        Q = [node]\n",
    "        while Q:\n",
    "            v = Q.pop(0)\n",
    "            S.append(v)\n",
    "\n",
    "            for w in graph[v][1]:\n",
    "                if D[w] < 0:\n",
    "                    Q.append(w)\n",
    "                    D[w] = D[v] + 1\n",
    "                if D[w] == D[v] + 1:\n",
    "                    sigma[w] += sigma[v]\n",
    "                    P[w].append(v)\n",
    "\n",
    "        delta = {v: 0 for v in graph.get_nodes()}\n",
    "        while S:\n",
    "            w = S.pop()\n",
    "            for v in P[w]:\n",
    "                delta[v] += (sigma[v] / sigma[w]) * (1 + delta[w])\n",
    "            if w != node:\n",
    "                betweenness[w] += delta[w]\n",
    "\n",
    "    return betweenness\n",
    "print(betweenness_centrality(romania_map))"
   ]
  },
  {
   "cell_type": "code",
   "execution_count": null,
   "metadata": {},
   "outputs": [],
   "source": []
  }
 ],
 "metadata": {
  "kernelspec": {
   "display_name": "Python 3",
   "language": "python",
   "name": "python3"
  },
  "language_info": {
   "codemirror_mode": {
    "name": "ipython",
    "version": 3
   },
   "file_extension": ".py",
   "mimetype": "text/x-python",
   "name": "python",
   "nbconvert_exporter": "python",
   "pygments_lexer": "ipython3",
   "version": "3.10.7"
  },
  "orig_nbformat": 4
 },
 "nbformat": 4,
 "nbformat_minor": 2
}
